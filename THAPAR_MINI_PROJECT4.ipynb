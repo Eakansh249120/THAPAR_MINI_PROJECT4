{
  "nbformat": 4,
  "nbformat_minor": 0,
  "metadata": {
    "colab": {
      "provenance": [],
      "authorship_tag": "ABX9TyNPQeIzfKDcIHVqcgZ8Y3cM",
      "include_colab_link": true
    },
    "kernelspec": {
      "name": "python3",
      "display_name": "Python 3"
    },
    "language_info": {
      "name": "python"
    }
  },
  "cells": [
    {
      "cell_type": "markdown",
      "metadata": {
        "id": "view-in-github",
        "colab_type": "text"
      },
      "source": [
        "<a href=\"https://colab.research.google.com/github/Eakansh249120/THAPAR_MINI_PROJECT4/blob/main/THAPAR_MINI_PROJECT4.ipynb\" target=\"_parent\"><img src=\"https://colab.research.google.com/assets/colab-badge.svg\" alt=\"Open In Colab\"/></a>"
      ]
    },
    {
      "cell_type": "code",
      "execution_count": null,
      "metadata": {
        "id": "GjiohIPFPOX1"
      },
      "outputs": [],
      "source": [
        "''' -------------MINI PROJECT 4 --------------------------------------'''\n",
        "\n",
        "'''Find all the list of products whose sum-of-price is between 290 and 310.\n",
        "\n",
        "ProductList = {p1:10, p2:15, p3:20, p4:25, p5:30, p6:35, p7:50'''\n",
        "import random as r\n",
        "productList = {'p1':10, 'p2':15, 'p3':20, 'p4':25, 'p5':30, 'p6':35, 'p7':50,\n",
        "               'p8':40, 'p9':55, 'p10':60, 'p11':65, 'p12':75, 'p13':70,\n",
        "               'p14':45}\n",
        "productprice=[]\n",
        "finalprice=[]\n",
        "count1=0\n",
        "for i in productList:\n",
        "    productprice.append(productList[i])\n",
        "\n",
        "print(productprice)\n",
        "for j in range(1,1000):\n",
        "    sample2=r.randint(1,7)\n",
        "    sample1=r.sample(productprice,sample2)\n",
        "    a=sum(sample1)\n",
        "    product_name=[]\n",
        "    if (a>=290 and a<=310):\n",
        "        print(\"your offers \",sample1)\n",
        "        print(\"price of your sample\" , a)\n",
        "        for j in sample1:\n",
        "            for l in productList:\n",
        "                if productList[l]==j:\n",
        "\n",
        "                    product_name.append(l)\n",
        "        print(product_name)\n",
        "\n",
        "\n",
        "\n",
        "\n",
        "\n",
        "\n",
        "\n",
        "\n",
        "\n",
        "\n",
        "\n",
        "\n",
        "\n",
        "\n",
        "\n",
        "\n",
        "\n",
        "\n",
        "\n",
        "\n",
        "\n",
        "\n",
        "\n",
        "\n",
        "\n",
        "\n"
      ]
    }
  ]
}